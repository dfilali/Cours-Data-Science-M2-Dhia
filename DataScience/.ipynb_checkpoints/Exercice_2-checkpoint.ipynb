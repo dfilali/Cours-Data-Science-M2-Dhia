{
 "cells": [
  {
   "cell_type": "markdown",
   "id": "c418d3e2",
   "metadata": {},
   "source": [
    "# Pandas for Data Science\n",
    "This notebook demonstrates powerful capabilities of the Pandas library using a complex dataset.\n"
   ]
  },
  {
   "cell_type": "code",
   "execution_count": null,
   "id": "4e901bf6",
   "metadata": {},
   "outputs": [],
   "source": [
    "import pandas as pd\n",
    "import numpy as np\n",
    "\n",
    "# load employee data\n",
    "employee_data = pd.read_csv('employee_data.csv')\n",
    "# Display the first few rows of the dataset\n",
    "employee_data.head()"
   ]
  },
  {
   "cell_type": "markdown",
   "id": "a6c52707",
   "metadata": {},
   "source": [
    "### GroupBy and Multi-Level Aggregation"
   ]
  },
  {
   "cell_type": "code",
   "execution_count": null,
   "id": "49d875f8",
   "metadata": {},
   "outputs": [],
   "source": [
    "# Average salary and performance by Department and Team\n",
    "agg_df = df.groupby(['Department', 'Team']).agg({\n",
    "    'Salary': ['mean', 'max', 'min'],\n",
    "    'PerformanceScore': ['mean', 'std'],\n",
    "    'Age': 'median'\n",
    "})\n",
    "agg_df"
   ]
  },
  {
   "cell_type": "markdown",
   "id": "0dbe5319",
   "metadata": {},
   "source": [
    "### Filtering with Complex Conditions"
   ]
  },
  {
   "cell_type": "code",
   "execution_count": null,
   "id": "aeff53ba",
   "metadata": {},
   "outputs": [],
   "source": [
    "# Employees in Engineering, older than 40, with high performance\n",
    "filtered = df[\n",
    "    (df['Department'] == 'Engineering') & \n",
    "    (df['Age'] > 40) & \n",
    "    (df['PerformanceScore'] > 3.5)\n",
    "]\n",
    "filtered.sort_values(by='PerformanceScore', ascending=False)"
   ]
  },
  {
   "cell_type": "markdown",
   "id": "b0e148be",
   "metadata": {},
   "source": [
    "### Using `apply()` with Custom Logic"
   ]
  },
  {
   "cell_type": "code",
   "execution_count": null,
   "id": "ad30baf9",
   "metadata": {},
   "outputs": [],
   "source": [
    "def experience_level(row):\n",
    "    years = 2025 - row['JoinDate'].year\n",
    "    if years < 2:\n",
    "        return 'Junior'\n",
    "    elif years < 5:\n",
    "        return 'Mid'\n",
    "    else:\n",
    "        return 'Senior'\n",
    "\n",
    "df['ExperienceLevel'] = df.apply(experience_level, axis=1)\n",
    "df[['Name', 'JoinDate', 'ExperienceLevel']].head()"
   ]
  },
  {
   "cell_type": "markdown",
   "id": "fafba5b8",
   "metadata": {},
   "source": [
    "### Creating Pivot Tables"
   ]
  },
  {
   "cell_type": "code",
   "execution_count": null,
   "id": "05ee7109",
   "metadata": {},
   "outputs": [],
   "source": [
    "pivot = pd.pivot_table(df, \n",
    "                         index='Department', \n",
    "                         columns='ExperienceLevel', \n",
    "                         values='Salary', \n",
    "                         aggfunc='mean')\n",
    "pivot"
   ]
  },
  {
   "cell_type": "markdown",
   "id": "dda4d1d7",
   "metadata": {},
   "source": [
    "### Merging DataFrames"
   ]
  },
  {
   "cell_type": "code",
   "execution_count": null,
   "id": "b1992b56",
   "metadata": {},
   "outputs": [],
   "source": [
    "# Simulate a new DataFrame with bonus info\n",
    "bonus_df = pd.DataFrame({\n",
    "    'EmployeeID': np.random.choice(df['EmployeeID'], size=50, replace=False),\n",
    "    'Bonus': np.random.randint(1000, 10000, size=50)\n",
    "})\n",
    "\n",
    "# Merge with main data\n",
    "df_merged = df.merge(bonus_df, on='EmployeeID', how='left')\n",
    "df_merged[['Name', 'Department', 'Bonus']].head()"
   ]
  },
  {
   "cell_type": "markdown",
   "id": "a6065948",
   "metadata": {},
   "source": [
    "###  Time Series: Resampling and Rolling Averages"
   ]
  },
  {
   "cell_type": "code",
   "execution_count": null,
   "id": "d5bf7427",
   "metadata": {},
   "outputs": [],
   "source": [
    "# Monthly new joiners\n",
    "monthly_joins = df.set_index('JoinDate').resample('M')['EmployeeID'].count()\n",
    "monthly_joins.plot(title='Monthly New Joiners', figsize=(10,4));"
   ]
  },
  {
   "cell_type": "markdown",
   "id": "ed5b20ff",
   "metadata": {},
   "source": [
    "## Exercice: Sales Data Analysis\n",
    "\n",
    "You are provided with a dataset `sales_data.csv` containing retail transactions with the following columns:\n",
    "\n",
    "- `OrderID`: Order identifier  \n",
    "- `CustomerID`: Unique customer identifier  \n",
    "- `Product`: Product name  \n",
    "- `Category`: Product category  \n",
    "- `Quantity`: Number of units sold  \n",
    "- `Price`: Unit price  \n",
    "- `OrderDate`: Date of the order  \n",
    "- `Country`: Customer's country  \n",
    "\n",
    "### Tasks:\n",
    "\n",
    "1. **Basic Exploration**:\n",
    "   - Display the first 5 rows.\n",
    "   - Count missing values in each column.\n",
    "   - Print summary statistics for `Quantity` and `Price`.\n",
    "\n",
    "2. **Data Cleaning**:\n",
    "   - Remove rows where `Quantity` or `Price` is less than or equal to 0.\n",
    "   - Convert `OrderDate` to datetime format.\n",
    "\n",
    "3. **Feature Engineering**:\n",
    "   - Create a new column `TotalAmount` = `Quantity` × `Price`.\n",
    "   - Extract the `Month` and `DayOfWeek` from `OrderDate`.\n",
    "\n",
    "4. **Analysis**:\n",
    "   - What is the total revenue per `Country`? (Sort descending)\n",
    "   - What are the top 5 best-selling products by `Quantity`?\n",
    "   - How many unique customers are there in each `Country`?\n",
    "\n",
    "5. **Time Series Aggregation**:\n",
    "   - Plot total daily revenue (`OrderDate` vs. `TotalAmount`) using a line plot.\n",
    "   - Compute the monthly average quantity sold per category.\n",
    "\n",
    "> 💡 Use `.groupby()`, `.agg()`, `.pivot_table()`, and visualization functions where appropriate."
   ]
  },
  {
   "cell_type": "code",
   "execution_count": null,
   "id": "149cb6d7",
   "metadata": {},
   "outputs": [],
   "source": [
    "# Add an excercice to students\n"
   ]
  }
 ],
 "metadata": {
  "kernelspec": {
   "display_name": ".venv",
   "language": "python",
   "name": "python3"
  },
  "language_info": {
   "codemirror_mode": {
    "name": "ipython",
    "version": 3
   },
   "file_extension": ".py",
   "mimetype": "text/x-python",
   "name": "python",
   "nbconvert_exporter": "python",
   "pygments_lexer": "ipython3",
   "version": "3.13.3"
  }
 },
 "nbformat": 4,
 "nbformat_minor": 5
}
